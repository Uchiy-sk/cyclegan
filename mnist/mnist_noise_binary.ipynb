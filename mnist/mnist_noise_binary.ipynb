{
 "cells": [
  {
   "cell_type": "markdown",
   "id": "be26eee2",
   "metadata": {
    "tags": []
   },
   "source": [
    "## AutoEncoder(ノイズ除去MNIST)"
   ]
  },
  {
   "cell_type": "code",
   "execution_count": 1,
   "id": "222da2e2-8291-49ab-ac91-cc3fc6f5c822",
   "metadata": {
    "collapsed": true,
    "jupyter": {
     "outputs_hidden": true
    },
    "tags": []
   },
   "outputs": [
    {
     "name": "stdout",
     "output_type": "stream",
     "text": [
      "Collecting tensorflow\n",
      "  Using cached tensorflow-2.9.1-cp37-cp37m-win_amd64.whl (444.0 MB)\n",
      "Requirement already satisfied: wrapt>=1.11.0 in c:\\users\\yusuke\\anaconda3\\lib\\site-packages (from tensorflow) (1.13.3)\n",
      "Collecting gast<=0.4.0,>=0.2.1\n",
      "  Using cached gast-0.4.0-py3-none-any.whl (9.8 kB)\n",
      "Collecting tensorflow-estimator<2.10.0,>=2.9.0rc0\n",
      "  Using cached tensorflow_estimator-2.9.0-py2.py3-none-any.whl (438 kB)\n",
      "Requirement already satisfied: protobuf<3.20,>=3.9.2 in c:\\users\\yusuke\\anaconda3\\lib\\site-packages (from tensorflow) (3.19.4)\n",
      "Collecting libclang>=13.0.0\n",
      "  Using cached libclang-14.0.1-py2.py3-none-win_amd64.whl (14.2 MB)\n",
      "Collecting absl-py>=1.0.0\n",
      "  Using cached absl_py-1.1.0-py3-none-any.whl (123 kB)\n",
      "Requirement already satisfied: numpy>=1.20 in c:\\users\\yusuke\\anaconda3\\lib\\site-packages (from tensorflow) (1.21.6)\n",
      "Requirement already satisfied: six>=1.12.0 in c:\\users\\yusuke\\anaconda3\\lib\\site-packages (from tensorflow) (1.16.0)\n",
      "Collecting tensorflow-io-gcs-filesystem>=0.23.1\n",
      "  Using cached tensorflow_io_gcs_filesystem-0.26.0-cp37-cp37m-win_amd64.whl (1.5 MB)\n",
      "Requirement already satisfied: grpcio<2.0,>=1.24.3 in c:\\users\\yusuke\\anaconda3\\lib\\site-packages (from tensorflow) (1.42.0)\n",
      "Collecting opt-einsum>=2.3.2\n",
      "  Using cached opt_einsum-3.3.0-py3-none-any.whl (65 kB)\n",
      "Requirement already satisfied: setuptools in c:\\users\\yusuke\\anaconda3\\lib\\site-packages (from tensorflow) (61.2.0)\n",
      "Collecting tensorboard<2.10,>=2.9\n",
      "  Using cached tensorboard-2.9.1-py3-none-any.whl (5.8 MB)\n",
      "Requirement already satisfied: h5py>=2.9.0 in c:\\users\\yusuke\\anaconda3\\lib\\site-packages (from tensorflow) (2.10.0)\n",
      "Requirement already satisfied: google-pasta>=0.1.1 in c:\\users\\yusuke\\anaconda3\\lib\\site-packages (from tensorflow) (0.2.0)\n",
      "Requirement already satisfied: termcolor>=1.1.0 in c:\\users\\yusuke\\anaconda3\\lib\\site-packages (from tensorflow) (1.1.0)\n",
      "Requirement already satisfied: typing-extensions>=3.6.6 in c:\\users\\yusuke\\anaconda3\\lib\\site-packages (from tensorflow) (4.1.1)\n",
      "Collecting keras<2.10.0,>=2.9.0rc0\n",
      "  Using cached keras-2.9.0-py2.py3-none-any.whl (1.6 MB)\n",
      "Collecting astunparse>=1.6.0\n",
      "  Using cached astunparse-1.6.3-py2.py3-none-any.whl (12 kB)\n",
      "Requirement already satisfied: keras-preprocessing>=1.1.1 in c:\\users\\yusuke\\anaconda3\\lib\\site-packages (from tensorflow) (1.1.2)\n",
      "Collecting flatbuffers<2,>=1.12\n",
      "  Using cached flatbuffers-1.12-py2.py3-none-any.whl (15 kB)\n",
      "Requirement already satisfied: packaging in c:\\users\\yusuke\\anaconda3\\lib\\site-packages (from tensorflow) (21.3)\n",
      "Requirement already satisfied: wheel<1.0,>=0.23.0 in c:\\users\\yusuke\\anaconda3\\lib\\site-packages (from astunparse>=1.6.0->tensorflow) (0.37.1)\n",
      "Requirement already satisfied: tensorboard-plugin-wit>=1.6.0 in c:\\users\\yusuke\\anaconda3\\lib\\site-packages (from tensorboard<2.10,>=2.9->tensorflow) (1.8.1)\n",
      "Requirement already satisfied: tensorboard-data-server<0.7.0,>=0.6.0 in c:\\users\\yusuke\\anaconda3\\lib\\site-packages (from tensorboard<2.10,>=2.9->tensorflow) (0.6.1)\n",
      "Requirement already satisfied: werkzeug>=1.0.1 in c:\\users\\yusuke\\anaconda3\\lib\\site-packages (from tensorboard<2.10,>=2.9->tensorflow) (2.0.3)\n",
      "Requirement already satisfied: markdown>=2.6.8 in c:\\users\\yusuke\\anaconda3\\lib\\site-packages (from tensorboard<2.10,>=2.9->tensorflow) (3.3.4)\n",
      "Collecting google-auth-oauthlib<0.5,>=0.4.1\n",
      "  Using cached google_auth_oauthlib-0.4.6-py2.py3-none-any.whl (18 kB)\n",
      "Requirement already satisfied: requests<3,>=2.21.0 in c:\\users\\yusuke\\anaconda3\\lib\\site-packages (from tensorboard<2.10,>=2.9->tensorflow) (2.27.1)\n",
      "Requirement already satisfied: google-auth<3,>=1.6.3 in c:\\users\\yusuke\\anaconda3\\lib\\site-packages (from tensorboard<2.10,>=2.9->tensorflow) (2.8.0)\n",
      "Requirement already satisfied: rsa<5,>=3.1.4 in c:\\users\\yusuke\\anaconda3\\lib\\site-packages (from google-auth<3,>=1.6.3->tensorboard<2.10,>=2.9->tensorflow) (4.8)\n",
      "Requirement already satisfied: pyasn1-modules>=0.2.1 in c:\\users\\yusuke\\anaconda3\\lib\\site-packages (from google-auth<3,>=1.6.3->tensorboard<2.10,>=2.9->tensorflow) (0.2.8)\n",
      "Requirement already satisfied: cachetools<6.0,>=2.0.0 in c:\\users\\yusuke\\anaconda3\\lib\\site-packages (from google-auth<3,>=1.6.3->tensorboard<2.10,>=2.9->tensorflow) (5.2.0)\n",
      "Requirement already satisfied: requests-oauthlib>=0.7.0 in c:\\users\\yusuke\\anaconda3\\lib\\site-packages (from google-auth-oauthlib<0.5,>=0.4.1->tensorboard<2.10,>=2.9->tensorflow) (1.3.1)\n",
      "Requirement already satisfied: importlib-metadata in c:\\users\\yusuke\\anaconda3\\lib\\site-packages (from markdown>=2.6.8->tensorboard<2.10,>=2.9->tensorflow) (4.11.3)\n",
      "Requirement already satisfied: pyasn1<0.5.0,>=0.4.6 in c:\\users\\yusuke\\anaconda3\\lib\\site-packages (from pyasn1-modules>=0.2.1->google-auth<3,>=1.6.3->tensorboard<2.10,>=2.9->tensorflow) (0.4.8)\n",
      "Requirement already satisfied: urllib3<1.27,>=1.21.1 in c:\\users\\yusuke\\anaconda3\\lib\\site-packages (from requests<3,>=2.21.0->tensorboard<2.10,>=2.9->tensorflow) (1.26.9)\n",
      "Requirement already satisfied: charset-normalizer~=2.0.0 in c:\\users\\yusuke\\anaconda3\\lib\\site-packages (from requests<3,>=2.21.0->tensorboard<2.10,>=2.9->tensorflow) (2.0.4)\n",
      "Requirement already satisfied: idna<4,>=2.5 in c:\\users\\yusuke\\anaconda3\\lib\\site-packages (from requests<3,>=2.21.0->tensorboard<2.10,>=2.9->tensorflow) (3.3)\n",
      "Requirement already satisfied: certifi>=2017.4.17 in c:\\users\\yusuke\\anaconda3\\lib\\site-packages (from requests<3,>=2.21.0->tensorboard<2.10,>=2.9->tensorflow) (2022.5.18.1)\n",
      "Requirement already satisfied: oauthlib>=3.0.0 in c:\\users\\yusuke\\anaconda3\\lib\\site-packages (from requests-oauthlib>=0.7.0->google-auth-oauthlib<0.5,>=0.4.1->tensorboard<2.10,>=2.9->tensorflow) (3.2.0)\n",
      "Requirement already satisfied: zipp>=0.5 in c:\\users\\yusuke\\anaconda3\\lib\\site-packages (from importlib-metadata->markdown>=2.6.8->tensorboard<2.10,>=2.9->tensorflow) (3.8.0)\n",
      "Requirement already satisfied: pyparsing!=3.0.5,>=2.0.2 in c:\\users\\yusuke\\anaconda3\\lib\\site-packages (from packaging->tensorflow) (3.0.4)\n",
      "Installing collected packages: google-auth-oauthlib, absl-py, tensorflow-io-gcs-filesystem, tensorflow-estimator, tensorboard, opt-einsum, libclang, keras, gast, flatbuffers, astunparse, tensorflow\n",
      "  Attempting uninstall: absl-py\n",
      "    Found existing installation: absl-py 0.15.0\n",
      "    Uninstalling absl-py-0.15.0:\n",
      "      Successfully uninstalled absl-py-0.15.0\n",
      "  Attempting uninstall: tensorflow-estimator\n",
      "    Found existing installation: tensorflow-estimator 1.14.0\n",
      "    Uninstalling tensorflow-estimator-1.14.0:\n",
      "      Successfully uninstalled tensorflow-estimator-1.14.0\n",
      "  Attempting uninstall: tensorboard\n",
      "    Found existing installation: tensorboard 1.14.0\n",
      "    Uninstalling tensorboard-1.14.0:\n",
      "      Successfully uninstalled tensorboard-1.14.0\n",
      "  Attempting uninstall: gast\n",
      "    Found existing installation: gast 0.5.3\n",
      "    Uninstalling gast-0.5.3:\n",
      "      Successfully uninstalled gast-0.5.3\n",
      "Successfully installed absl-py-1.1.0 astunparse-1.6.3 flatbuffers-1.12 gast-0.4.0 google-auth-oauthlib-0.4.6 keras-2.9.0 libclang-14.0.1 opt-einsum-3.3.0 tensorboard-2.9.1 tensorflow-2.9.1 tensorflow-estimator-2.9.0 tensorflow-io-gcs-filesystem-0.26.0\n",
      "Note: you may need to restart the kernel to use updated packages.\n"
     ]
    },
    {
     "name": "stderr",
     "output_type": "stream",
     "text": [
      "WARNING: Ignoring invalid distribution -umpy (c:\\users\\yusuke\\anaconda3\\lib\\site-packages)\n",
      "WARNING: Ignoring invalid distribution -umpy (c:\\users\\yusuke\\anaconda3\\lib\\site-packages)\n",
      "WARNING: Ignoring invalid distribution -umpy (c:\\users\\yusuke\\anaconda3\\lib\\site-packages)\n",
      "    WARNING: Ignoring invalid distribution -umpy (c:\\users\\yusuke\\anaconda3\\lib\\site-packages)\n",
      "    WARNING: Ignoring invalid distribution -umpy (c:\\users\\yusuke\\anaconda3\\lib\\site-packages)\n",
      "    WARNING: Ignoring invalid distribution -umpy (c:\\users\\yusuke\\anaconda3\\lib\\site-packages)\n",
      "    WARNING: Ignoring invalid distribution -umpy (c:\\users\\yusuke\\anaconda3\\lib\\site-packages)\n",
      "WARNING: Ignoring invalid distribution -umpy (c:\\users\\yusuke\\anaconda3\\lib\\site-packages)\n",
      "WARNING: Ignoring invalid distribution -umpy (c:\\users\\yusuke\\anaconda3\\lib\\site-packages)\n",
      "WARNING: Ignoring invalid distribution -umpy (c:\\users\\yusuke\\anaconda3\\lib\\site-packages)\n",
      "WARNING: Ignoring invalid distribution -umpy (c:\\users\\yusuke\\anaconda3\\lib\\site-packages)\n",
      "WARNING: Ignoring invalid distribution -umpy (c:\\users\\yusuke\\anaconda3\\lib\\site-packages)\n",
      "WARNING: Ignoring invalid distribution -umpy (c:\\users\\yusuke\\anaconda3\\lib\\site-packages)\n",
      "WARNING: Ignoring invalid distribution -umpy (c:\\users\\yusuke\\anaconda3\\lib\\site-packages)\n",
      "WARNING: Ignoring invalid distribution -umpy (c:\\users\\yusuke\\anaconda3\\lib\\site-packages)\n",
      "WARNING: Ignoring invalid distribution -umpy (c:\\users\\yusuke\\anaconda3\\lib\\site-packages)\n",
      "WARNING: Ignoring invalid distribution -umpy (c:\\users\\yusuke\\anaconda3\\lib\\site-packages)\n",
      "WARNING: Ignoring invalid distribution -umpy (c:\\users\\yusuke\\anaconda3\\lib\\site-packages)\n",
      "WARNING: Ignoring invalid distribution -umpy (c:\\users\\yusuke\\anaconda3\\lib\\site-packages)\n",
      "WARNING: Ignoring invalid distribution -umpy (c:\\users\\yusuke\\anaconda3\\lib\\site-packages)\n",
      "WARNING: Ignoring invalid distribution -umpy (c:\\users\\yusuke\\anaconda3\\lib\\site-packages)\n",
      "WARNING: Ignoring invalid distribution -umpy (c:\\users\\yusuke\\anaconda3\\lib\\site-packages)\n"
     ]
    }
   ],
   "source": [
    "pip install tensorflow"
   ]
  },
  {
   "cell_type": "code",
   "execution_count": 2,
   "id": "588f6c02-e5bf-4e6c-af7c-119ebe6f55e0",
   "metadata": {
    "collapsed": true,
    "jupyter": {
     "outputs_hidden": true
    },
    "tags": []
   },
   "outputs": [
    {
     "name": "stdout",
     "output_type": "stream",
     "text": [
      "Requirement already satisfied: keras in c:\\users\\yusuke\\anaconda3\\lib\\site-packages (2.9.0)\n",
      "Note: you may need to restart the kernel to use updated packages.\n"
     ]
    },
    {
     "name": "stderr",
     "output_type": "stream",
     "text": [
      "WARNING: Ignoring invalid distribution -umpy (c:\\users\\yusuke\\anaconda3\\lib\\site-packages)\n",
      "WARNING: Ignoring invalid distribution -umpy (c:\\users\\yusuke\\anaconda3\\lib\\site-packages)\n",
      "WARNING: Ignoring invalid distribution -umpy (c:\\users\\yusuke\\anaconda3\\lib\\site-packages)\n",
      "WARNING: Ignoring invalid distribution -umpy (c:\\users\\yusuke\\anaconda3\\lib\\site-packages)\n",
      "WARNING: Ignoring invalid distribution -umpy (c:\\users\\yusuke\\anaconda3\\lib\\site-packages)\n",
      "WARNING: Ignoring invalid distribution -umpy (c:\\users\\yusuke\\anaconda3\\lib\\site-packages)\n"
     ]
    }
   ],
   "source": [
    "pip install keras"
   ]
  },
  {
   "cell_type": "code",
   "execution_count": 4,
   "id": "11756814",
   "metadata": {},
   "outputs": [],
   "source": [
    "import tensorflow as tf\n",
    "import keras"
   ]
  },
  {
   "cell_type": "markdown",
   "id": "9a7381a9",
   "metadata": {},
   "source": [
    "### データセットのダウンロード"
   ]
  },
  {
   "cell_type": "code",
   "execution_count": 5,
   "id": "72a2a100",
   "metadata": {},
   "outputs": [],
   "source": [
    "#初期値設定\n",
    "image_x ,image_y = 28, 28 #画像サイズ\n",
    "batch_size = 128 #バッチサイズ\n",
    "input_shape = (image_x, image_y, 1)\n",
    "num = 10 #0~9番号\n",
    "epochs = 10\n",
    "Noise = 0.5"
   ]
  },
  {
   "cell_type": "code",
   "execution_count": 6,
   "id": "bf9d822f",
   "metadata": {},
   "outputs": [],
   "source": [
    "from keras.datasets import mnist\n",
    "(x_train, _), (x_test, _) = mnist.load_data()\n",
    "#学習用データ60000個,テスト用データ10000個"
   ]
  },
  {
   "cell_type": "code",
   "execution_count": 7,
   "id": "c4ef114f",
   "metadata": {},
   "outputs": [],
   "source": [
    "#1次配列に変換\n",
    "x_train = x_train.reshape(x_train.shape[0], image_x, image_y, 1)\n",
    "x_test = x_test.reshape(x_test.shape[0], image_x, image_y, 1)"
   ]
  },
  {
   "cell_type": "code",
   "execution_count": 8,
   "id": "53857184",
   "metadata": {},
   "outputs": [
    {
     "name": "stdout",
     "output_type": "stream",
     "text": [
      "x_train shape: (60000, 28, 28, 1)\n",
      "60000 train samples\n",
      "10000 test samples\n"
     ]
    }
   ],
   "source": [
    "#0~1に正規化\n",
    "x_train = x_train.astype('float32')\n",
    "x_test = x_test.astype('float32')\n",
    "x_train /= 255\n",
    "x_test /= 255\n",
    "\n",
    "print('x_train shape:', x_train.shape)\n",
    "print(x_train.shape[0], 'train samples')\n",
    "print(x_test.shape[0], 'test samples')"
   ]
  },
  {
   "cell_type": "markdown",
   "id": "d798ff9e",
   "metadata": {},
   "source": [
    "### ノイズの付与"
   ]
  },
  {
   "cell_type": "code",
   "execution_count": 9,
   "id": "5e4dc5f1",
   "metadata": {},
   "outputs": [],
   "source": [
    "import numpy as np\n",
    "noise = Noise\n",
    "\n",
    "x_train_noise = x_train + noise * np.random.normal(loc=0., scale=1., size=x_train.shape) #正規分布乱数の付与\n",
    "x_test_noise = x_test + noise * np.random.normal(loc=0., scale=1., size=x_test.shape)\n",
    "\n",
    "x_train_noise = np.clip(x_train_noise, 0., 1.)\n",
    "x_test_noise = np.clip(x_test_noise, 0., 1.)"
   ]
  },
  {
   "cell_type": "markdown",
   "id": "03585e83",
   "metadata": {},
   "source": [
    "### モデルの作成"
   ]
  },
  {
   "cell_type": "code",
   "execution_count": 10,
   "id": "8142fcc3",
   "metadata": {
    "tags": []
   },
   "outputs": [],
   "source": [
    "from keras.models import Sequential\n",
    "from keras.layers import Dense, Dropout, Flatten\n",
    "from keras.layers import Conv2D, MaxPooling2D, UpSampling2D"
   ]
  },
  {
   "cell_type": "code",
   "execution_count": 11,
   "id": "9c2525c2-e51d-44a5-b215-fc7a2c47154f",
   "metadata": {
    "tags": []
   },
   "outputs": [
    {
     "name": "stdout",
     "output_type": "stream",
     "text": [
      "Model: \"sequential\"\n",
      "_________________________________________________________________\n",
      " Layer (type)                Output Shape              Param #   \n",
      "=================================================================\n",
      " conv2d (Conv2D)             (None, 28, 28, 32)        320       \n",
      "                                                                 \n",
      " max_pooling2d (MaxPooling2D  (None, 14, 14, 32)       0         \n",
      " )                                                               \n",
      "                                                                 \n",
      " conv2d_1 (Conv2D)           (None, 14, 14, 64)        18496     \n",
      "                                                                 \n",
      " up_sampling2d (UpSampling2D  (None, 28, 28, 64)       0         \n",
      " )                                                               \n",
      "                                                                 \n",
      " conv2d_2 (Conv2D)           (None, 28, 28, 1)         577       \n",
      "                                                                 \n",
      "=================================================================\n",
      "Total params: 19,393\n",
      "Trainable params: 19,393\n",
      "Non-trainable params: 0\n",
      "_________________________________________________________________\n"
     ]
    }
   ],
   "source": [
    "model = Sequential()\n",
    "model.add(Conv2D(32,                                   #filter:フィルタの個数\n",
    "                kernel_size = 3,                   #2次元(3,3)畳み込みウィンドウの幅と高さ\n",
    "                activation = 'relu',\n",
    "                padding = 'same',\n",
    "                input_shape = input_shape))            #入力shape\n",
    "model.add(MaxPooling2D(pool_size =(2, 2)))            #領域内で最大値をとるモデル\n",
    "model.add(Conv2D(64, (3,3),\n",
    "                activation = 'relu',\n",
    "                padding = 'same'))                     #relu:正規化線形関数\n",
    "model.add(UpSampling2D((2, 2))) \n",
    "#model.add(Dropout(0.25))\n",
    "model.add(Conv2D(1, (3,3),\n",
    "                activation = 'relu',\n",
    "                padding = 'same'))\n",
    "\n",
    "#model.add(Flatten())                                   #特徴マップをベクトル形式に変換\n",
    "#model.add(Dense(num, activation = 'softmax'))          #softmax:0~1に確率変換\n",
    "model.summary()\n",
    "\n",
    "#損失関数・最適化関数、評価指数の指定とコンパイル\n",
    "model.compile(loss = 'binary_crossentropy', #損失関数 -> https://keras.io/objectives/\n",
    "              optimizer = 'Adam', #評価関数 -> https://keras.io/optimizer/\n",
    "              metrics = ['accuracy'])"
   ]
  },
  {
   "cell_type": "markdown",
   "id": "017609ec",
   "metadata": {
    "tags": []
   },
   "source": [
    "### モデルの学習"
   ]
  },
  {
   "cell_type": "code",
   "execution_count": 12,
   "id": "063e34e3",
   "metadata": {},
   "outputs": [
    {
     "name": "stdout",
     "output_type": "stream",
     "text": [
      "Epoch 1/10\n",
      "469/469 [==============================] - 83s 175ms/step - loss: 0.1426 - accuracy: 0.8114 - val_loss: 0.1400 - val_accuracy: 0.8118\n",
      "Epoch 2/10\n",
      "469/469 [==============================] - 90s 192ms/step - loss: 0.1384 - accuracy: 0.8115 - val_loss: 0.1256 - val_accuracy: 0.8112\n",
      "Epoch 3/10\n",
      "469/469 [==============================] - 96s 206ms/step - loss: 0.1293 - accuracy: 0.8122 - val_loss: 0.1241 - val_accuracy: 0.8114\n",
      "Epoch 4/10\n",
      "469/469 [==============================] - 133s 284ms/step - loss: 0.1338 - accuracy: 0.8125 - val_loss: 0.1226 - val_accuracy: 0.8119\n",
      "Epoch 5/10\n",
      "469/469 [==============================] - 107s 228ms/step - loss: 0.1294 - accuracy: 0.8125 - val_loss: 0.1234 - val_accuracy: 0.8121\n",
      "Epoch 6/10\n",
      "469/469 [==============================] - 110s 234ms/step - loss: 0.1226 - accuracy: 0.8131 - val_loss: 0.1202 - val_accuracy: 0.8125\n",
      "Epoch 7/10\n",
      "469/469 [==============================] - 98s 209ms/step - loss: 0.1383 - accuracy: 0.8120 - val_loss: 0.1235 - val_accuracy: 0.8121\n",
      "Epoch 8/10\n",
      "469/469 [==============================] - 96s 204ms/step - loss: 0.1238 - accuracy: 0.8129 - val_loss: 0.1229 - val_accuracy: 0.8123\n",
      "Epoch 9/10\n",
      "469/469 [==============================] - 97s 207ms/step - loss: 0.1234 - accuracy: 0.8129 - val_loss: 0.1198 - val_accuracy: 0.8125\n",
      "Epoch 10/10\n",
      "469/469 [==============================] - 97s 207ms/step - loss: 0.1261 - accuracy: 0.8128 - val_loss: 0.1228 - val_accuracy: 0.8116\n"
     ]
    }
   ],
   "source": [
    "hist = model.fit(x_train_noise, x_train,\n",
    "                batch_size = batch_size,\n",
    "                epochs = epochs,\n",
    "                shuffle = True,\n",
    "                verbose = 1,\n",
    "                validation_data = (x_test_noise, x_test)) #検証用データ"
   ]
  },
  {
   "cell_type": "code",
   "execution_count": 27,
   "id": "c65ec874",
   "metadata": {
    "tags": []
   },
   "outputs": [
    {
     "name": "stdout",
     "output_type": "stream",
     "text": [
      "313/313 [==============================] - 2s 7ms/step - loss: 0.0000e+00 - accuracy: 0.8072\n",
      "Test loss: 0.0\n",
      "Test acc : 0.8072424530982971\n"
     ]
    }
   ],
   "source": [
    "#モデルの評価\n",
    "score = model.evaluate(x_test_noise, x_test)\n",
    "print('Test loss:', score[0]) #損失\n",
    "print('Test acc :', score[1]) #正解率"
   ]
  },
  {
   "cell_type": "code",
   "execution_count": 15,
   "id": "16d5732a-49e1-415d-90ee-48d68ae84297",
   "metadata": {},
   "outputs": [
    {
     "name": "stdout",
     "output_type": "stream",
     "text": [
      "313/313 [==============================] - 2s 6ms/step\n"
     ]
    },
    {
     "data": {
      "image/png": "[encoded data removed]",
      "text/plain": [
       "<Figure size 1440x432 with 30 Axes>"
      ]
     },
     "metadata": {
      "needs_background": "light"
     },
     "output_type": "display_data"
    }
   ],
   "source": [
    "import matplotlib.pyplot as plt\n",
    "n = 10\n",
    "result = model.predict(x_test_noise)\n",
    "\n",
    "fig = plt.figure(figsize = (20, 6))\n",
    "for i in range(n):\n",
    "    ax1 = plt.subplot(3, n, i+1)\n",
    "    plt.imshow(x_test_noise[i].reshape(image_x, image_y))\n",
    "    plt.gray()\n",
    "    ax1.get_xaxis().set_visible(False)\n",
    "    ax1.get_yaxis().set_visible(False)\n",
    "    \n",
    "    ax2 = plt.subplot(3, n, n+i+1)\n",
    "    plt.imshow(x_test[i].reshape(image_x, image_y))\n",
    "    plt.gray()\n",
    "    ax2.get_xaxis().set_visible(False)\n",
    "    ax2.get_yaxis().set_visible(False)\n",
    "    \n",
    "    ax2 = plt.subplot(3, n, 2*n+i+1)\n",
    "    plt.imshow(result[i].reshape(image_x, image_y))\n",
    "    plt.gray()\n",
    "    ax2.get_xaxis().set_visible(False)\n",
    "    ax2.get_yaxis().set_visible(False)\n",
    "plt.show\n",
    "\n",
    "fig.savefig(\"mnist_noise_2.png\")"
   ]
  }
 ],
 "metadata": {
  "kernelspec": {
   "display_name": "Python 3.8.8 ('base')",
   "language": "python",
   "name": "python3"
  },
  "language_info": {
   "codemirror_mode": {
    "name": "ipython",
    "version": 3
   },
   "file_extension": ".py",
   "mimetype": "text/x-python",
   "name": "python",
   "nbconvert_exporter": "python",
   "pygments_lexer": "ipython3",
   "version": "3.8.8"
  },
  "vscode": {
   "interpreter": {
    "hash": "8f26338040a1f4d0c81d67d983a97f14fdec3d332bfce0925af5b514775f9c50"
   }
  }
 },
 "nbformat": 4,
 "nbformat_minor": 5
}
