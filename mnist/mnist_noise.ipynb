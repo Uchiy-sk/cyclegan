{
 "cells": [
  {
   "cell_type": "markdown",
   "id": "be26eee2",
   "metadata": {
    "tags": []
   },
   "source": [
    "## AutoEncoder(ノイズ除去MNIST)"
   ]
  },
  {
   "cell_type": "code",
   "execution_count": 1,
   "id": "11756814",
   "metadata": {},
   "outputs": [],
   "source": [
    "import tensorflow as tf\n",
    "import keras"
   ]
  },
  {
   "cell_type": "markdown",
   "id": "9a7381a9",
   "metadata": {},
   "source": [
    "### データセットのダウンロード"
   ]
  },
  {
   "cell_type": "code",
   "execution_count": 3,
   "id": "72a2a100",
   "metadata": {},
   "outputs": [],
   "source": [
    "#初期値設定\n",
    "image_x ,image_y = 28, 28 #画像サイズ\n",
    "batch_size = 128 #バッチサイズ\n",
    "input_shape = (image_x, image_y, 1)\n",
    "num = 10 #0~9番号\n",
    "epochs = 5\n",
    "Noise = 0.5"
   ]
  },
  {
   "cell_type": "code",
   "execution_count": 4,
   "id": "bf9d822f",
   "metadata": {},
   "outputs": [],
   "source": [
    "from keras.datasets import mnist\n",
    "(x_train, _), (x_test, _) = mnist.load_data()\n",
    "#学習用データ60000個,テスト用データ10000個"
   ]
  },
  {
   "cell_type": "code",
   "execution_count": 5,
   "id": "c4ef114f",
   "metadata": {},
   "outputs": [],
   "source": [
    "#1次配列に変換\n",
    "x_train = x_train.reshape(x_train.shape[0], image_x, image_y, 1)\n",
    "x_test = x_test.reshape(x_test.shape[0], image_x, image_y, 1)"
   ]
  },
  {
   "cell_type": "code",
   "execution_count": 6,
   "id": "53857184",
   "metadata": {},
   "outputs": [
    {
     "name": "stdout",
     "output_type": "stream",
     "text": [
      "x_train shape: (60000, 28, 28, 1)\n",
      "60000 train samples\n",
      "10000 test samples\n"
     ]
    }
   ],
   "source": [
    "#0~1に正規化\n",
    "x_train = x_train.astype('float32')\n",
    "x_test = x_test.astype('float32')\n",
    "x_train /= 255\n",
    "x_test /= 255\n",
    "\n",
    "print('x_train shape:', x_train.shape)\n",
    "print(x_train.shape[0], 'train samples')\n",
    "print(x_test.shape[0], 'test samples')"
   ]
  },
  {
   "cell_type": "markdown",
   "id": "d798ff9e",
   "metadata": {},
   "source": [
    "### ノイズの付与"
   ]
  },
  {
   "cell_type": "code",
   "execution_count": 8,
   "id": "5e4dc5f1",
   "metadata": {},
   "outputs": [],
   "source": [
    "import numpy as np\n",
    "noise = Noise\n",
    "\n",
    "x_train_noise = x_train + noise * np.random.normal(loc=0., scale=1., size=x_train.shape) #正規分布乱数の付与\n",
    "x_test_noise = x_test + noise * np.random.normal(loc=0., scale=1., size=x_test.shape)\n",
    "\n",
    "x_train_noise = np.clip(x_train_noise, 0., 1.)\n",
    "x_test_noise = np.clip(x_test_noise, 0., 1.)"
   ]
  },
  {
   "cell_type": "markdown",
   "id": "03585e83",
   "metadata": {},
   "source": [
    "### モデルの作成"
   ]
  },
  {
   "cell_type": "code",
   "execution_count": 9,
   "id": "8142fcc3",
   "metadata": {},
   "outputs": [],
   "source": [
    "from keras.models import Sequential\n",
    "from keras.layers import Dense, Dropout, Flatten\n",
    "from keras.layers import Conv2D, MaxPooling2D, UpSampling2D"
   ]
  },
  {
   "cell_type": "code",
   "execution_count": 10,
   "id": "261ceb52-dac5-4ce7-bae6-aafabbb0b705",
   "metadata": {
    "tags": []
   },
   "outputs": [
    {
     "name": "stdout",
     "output_type": "stream",
     "text": [
      "Model: \"sequential\"\n",
      "_________________________________________________________________\n",
      " Layer (type)                Output Shape              Param #   \n",
      "=================================================================\n",
      " conv2d (Conv2D)             (None, 28, 28, 32)        320       \n",
      "                                                                 \n",
      " max_pooling2d (MaxPooling2D  (None, 14, 14, 32)       0         \n",
      " )                                                               \n",
      "                                                                 \n",
      " conv2d_1 (Conv2D)           (None, 14, 14, 32)        9248      \n",
      "                                                                 \n",
      " max_pooling2d_1 (MaxPooling  (None, 7, 7, 32)         0         \n",
      " 2D)                                                             \n",
      "                                                                 \n",
      " conv2d_2 (Conv2D)           (None, 7, 7, 32)          9248      \n",
      "                                                                 \n",
      " up_sampling2d (UpSampling2D  (None, 14, 14, 32)       0         \n",
      " )                                                               \n",
      "                                                                 \n",
      " conv2d_3 (Conv2D)           (None, 14, 14, 32)        9248      \n",
      "                                                                 \n",
      " up_sampling2d_1 (UpSampling  (None, 28, 28, 32)       0         \n",
      " 2D)                                                             \n",
      "                                                                 \n",
      " conv2d_4 (Conv2D)           (None, 28, 28, 1)         289       \n",
      "                                                                 \n",
      "=================================================================\n",
      "Total params: 28,353\n",
      "Trainable params: 28,353\n",
      "Non-trainable params: 0\n",
      "_________________________________________________________________\n"
     ]
    }
   ],
   "source": [
    "model = Sequential()\n",
    "model.add(Conv2D(32,                                   #filter:フィルタの個数\n",
    "                kernel_size = 3,                   #2次元(3,3)畳み込みウィンドウの幅と高さ\n",
    "                activation = 'relu',\n",
    "                padding = 'same',                      #入出力のサイズを合わせる\n",
    "                input_shape = input_shape))            #入力shape\n",
    "model.add(MaxPooling2D(pool_size = (2, 2)))            #領域内で最大値をとるモデル\n",
    "model.add(Conv2D(32, (3,3),\n",
    "                 activation = 'relu',                  #relu:正規化線形関数\n",
    "                 padding = 'same'))\n",
    "model.add(MaxPooling2D(pool_size = (2, 2)))            #領域内で最大値をとるモデル\n",
    "model.add(Conv2D(32, (3,3),\n",
    "                 activation = 'relu',                  #relu:正規化線形関数\n",
    "                 padding = 'same'))\n",
    "model.add(UpSampling2D((2, 2)))\n",
    "model.add(Conv2D(32, (3,3),\n",
    "                 activation = 'relu',                  #relu:正規化線形関数\n",
    "                 padding = 'same'))\n",
    "model.add(UpSampling2D((2, 2)))\n",
    "#model.add(Dropout(0.25))\n",
    "model.add(Conv2D(1, (3,3),\n",
    "                 activation = 'sigmoid',               #sigmoid:S字型関数\n",
    "                 padding = 'same'))\n",
    "model.summary()\n",
    "\n",
    "#損失関数・最適化関数、評価指数の指定とコンパイル\n",
    "model.compile(loss = 'categorical_crossentropy', #損失関数 -> https://keras.io/objectives/\n",
    "              optimizer = 'Adam', #評価関数 -> https://keras.io/optimizer/\n",
    "              metrics = ['accuracy'])"
   ]
  },
  {
   "cell_type": "markdown",
   "id": "017609ec",
   "metadata": {
    "tags": []
   },
   "source": [
    "### モデルの学習"
   ]
  },
  {
   "cell_type": "code",
   "execution_count": 11,
   "id": "063e34e3",
   "metadata": {},
   "outputs": [
    {
     "name": "stdout",
     "output_type": "stream",
     "text": [
      "Epoch 1/5\n",
      "469/469 [==============================] - 62s 132ms/step - loss: 0.0000e+00 - accuracy: 0.8081 - val_loss: 0.0000e+00 - val_accuracy: 0.8072\n",
      "Epoch 2/5\n",
      "469/469 [==============================] - 61s 131ms/step - loss: 0.0000e+00 - accuracy: 0.8088 - val_loss: 0.0000e+00 - val_accuracy: 0.8072\n",
      "Epoch 3/5\n",
      "469/469 [==============================] - 61s 129ms/step - loss: 0.0000e+00 - accuracy: 0.8088 - val_loss: 0.0000e+00 - val_accuracy: 0.8072\n",
      "Epoch 4/5\n",
      "469/469 [==============================] - 63s 134ms/step - loss: 0.0000e+00 - accuracy: 0.8088 - val_loss: 0.0000e+00 - val_accuracy: 0.8072\n",
      "Epoch 5/5\n",
      "469/469 [==============================] - 61s 130ms/step - loss: 0.0000e+00 - accuracy: 0.8088 - val_loss: 0.0000e+00 - val_accuracy: 0.8072\n"
     ]
    }
   ],
   "source": [
    "hist = model.fit(x_train_noise, x_train,\n",
    "                batch_size = batch_size,\n",
    "                epochs = epochs,\n",
    "                shuffle = True,\n",
    "                verbose = 1,\n",
    "                validation_data = (x_test_noise, x_test)) #検証用データ"
   ]
  },
  {
   "cell_type": "code",
   "execution_count": 27,
   "id": "c65ec874",
   "metadata": {
    "tags": []
   },
   "outputs": [
    {
     "name": "stdout",
     "output_type": "stream",
     "text": [
      "313/313 [==============================] - 2s 7ms/step - loss: 0.0000e+00 - accuracy: 0.8072\n",
      "Test loss: 0.0\n",
      "Test acc : 0.8072424530982971\n"
     ]
    }
   ],
   "source": [
    "#モデルの評価\n",
    "score = model.evaluate(x_test_noise, x_test)\n",
    "print('Test loss:', score[0]) #損失\n",
    "print('Test acc :', score[1]) #正解率"
   ]
  },
  {
   "cell_type": "code",
   "execution_count": 12,
   "id": "16d5732a-49e1-415d-90ee-48d68ae84297",
   "metadata": {},
   "outputs": [
    {
     "name": "stdout",
     "output_type": "stream",
     "text": [
      "313/313 [==============================] - 2s 7ms/step\n"
     ]
    },
    {
     "data": {
      "image/png": "[encoded data removed]",
      "text/plain": [
       "<Figure size 1440x288 with 20 Axes>"
      ]
     },
     "metadata": {
      "needs_background": "light"
     },
     "output_type": "display_data"
    }
   ],
   "source": [
    "import matplotlib.pyplot as plt\n",
    "n = 10\n",
    "result = model.predict(x_test_noise)\n",
    "\n",
    "fig = plt.figure(figsize = (20, 4))\n",
    "for i in range(n):\n",
    "    ax1 = plt.subplot(2, n, i+1)\n",
    "    plt.imshow(x_test_noise[i].reshape(image_x, image_y))\n",
    "    plt.gray()\n",
    "    ax1.get_xaxis().set_visible(False)\n",
    "    ax1.get_yaxis().set_visible(False)\n",
    "    \n",
    "    ax2 = plt.subplot(2, n, n+i+1)\n",
    "    plt.imshow(result[i].reshape(image_x, image_y))\n",
    "    plt.gray()\n",
    "    ax2.get_xaxis().set_visible(False)\n",
    "    ax2.get_yaxis().set_visible(False)\n",
    "plt.show\n",
    "\n",
    "fig.savefig(\"mnist_noise.png\")"
   ]
  }
 ],
 "metadata": {
  "kernelspec": {
   "display_name": "Python 3.8.8 ('base')",
   "language": "python",
   "name": "python3"
  },
  "language_info": {
   "codemirror_mode": {
    "name": "ipython",
    "version": 3
   },
   "file_extension": ".py",
   "mimetype": "text/x-python",
   "name": "python",
   "nbconvert_exporter": "python",
   "pygments_lexer": "ipython3",
   "version": "3.8.8"
  },
  "vscode": {
   "interpreter": {
    "hash": "8f26338040a1f4d0c81d67d983a97f14fdec3d332bfce0925af5b514775f9c50"
   }
  }
 },
 "nbformat": 4,
 "nbformat_minor": 5
}
