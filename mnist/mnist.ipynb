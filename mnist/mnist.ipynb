{
 "cells": [
  {
   "cell_type": "markdown",
   "id": "150e7670",
   "metadata": {
    "tags": []
   },
   "source": [
    "# MNIST実装"
   ]
  },
  {
   "cell_type": "code",
   "execution_count": 1,
   "id": "e9f0f03b",
   "metadata": {},
   "outputs": [
    {
     "ename": "ModuleNotFoundError",
     "evalue": "No module named 'tensorflow'",
     "output_type": "error",
     "traceback": [
      "\u001b[1;31m---------------------------------------------------------------------------\u001b[0m",
      "\u001b[1;31mModuleNotFoundError\u001b[0m                       Traceback (most recent call last)",
      "\u001b[1;32mセル2 を c:\\Users\\uchiyama\\OneDrive - 千葉大学\\ドキュメント\\Python\\research\\mnist.ipynb\u001b[0m in \u001b[0;36m<cell line: 1>\u001b[1;34m()\u001b[0m\n\u001b[1;32m----> <a href='vscode-notebook-cell:/c%3A/Users/uchiyama/OneDrive%20-%20%E5%8D%83%E8%91%89%E5%A4%A7%E5%AD%A6/%E3%83%89%E3%82%AD%E3%83%A5%E3%83%A1%E3%83%B3%E3%83%88/Python/research/mnist.ipynb#W1sZmlsZQ%3D%3D?line=0'>1</a>\u001b[0m \u001b[39mimport\u001b[39;00m \u001b[39mtensorflow\u001b[39;00m \u001b[39mas\u001b[39;00m \u001b[39mtf\u001b[39;00m\n\u001b[0;32m      <a href='vscode-notebook-cell:/c%3A/Users/uchiyama/OneDrive%20-%20%E5%8D%83%E8%91%89%E5%A4%A7%E5%AD%A6/%E3%83%89%E3%82%AD%E3%83%A5%E3%83%A1%E3%83%B3%E3%83%88/Python/research/mnist.ipynb#W1sZmlsZQ%3D%3D?line=1'>2</a>\u001b[0m \u001b[39mimport\u001b[39;00m \u001b[39mkeras\u001b[39;00m\n",
      "\u001b[1;31mModuleNotFoundError\u001b[0m: No module named 'tensorflow'"
     ]
    }
   ],
   "source": [
    "import tensorflow as tf\n",
    "import keras"
   ]
  },
  {
   "cell_type": "markdown",
   "id": "b4a5883e",
   "metadata": {},
   "source": [
    "### データセットのダウンロード"
   ]
  },
  {
   "cell_type": "code",
   "execution_count": null,
   "id": "9f624368",
   "metadata": {},
   "outputs": [],
   "source": [
    "#初期値設定\n",
    "image_x ,image_y = 28, 28 #画像サイズ\n",
    "batch_size = 128 #バッチサイズ\n",
    "input_shape = (image_x, image_y, 1)\n",
    "num = 10 #0~9番号\n",
    "epochs = 10"
   ]
  },
  {
   "cell_type": "code",
   "execution_count": null,
   "id": "383c7805",
   "metadata": {},
   "outputs": [],
   "source": [
    "from keras.datasets import mnist\n",
    "(x_train, y_train), (x_test, y_test) = mnist.load_data()\n",
    "#学習用データ60000個,テスト用データ10000個"
   ]
  },
  {
   "cell_type": "code",
   "execution_count": null,
   "id": "09844ae5",
   "metadata": {},
   "outputs": [],
   "source": [
    "#1次配列に変換\n",
    "x_train = x_train.reshape(x_train.shape[0], image_x, image_y, 1)\n",
    "x_test = x_test.reshape(x_test.shape[0], image_x, image_y, 1)"
   ]
  },
  {
   "cell_type": "code",
   "execution_count": null,
   "id": "20964f68",
   "metadata": {},
   "outputs": [],
   "source": [
    "#0~1に正規化\n",
    "x_train = x_train.astype('float32')\n",
    "x_test = x_test.astype('float32')\n",
    "x_train /= 255\n",
    "x_test /= 255\n",
    "\n",
    "print('x_train shape:', x_train.shape)\n",
    "print(x_train.shape[0], 'train samples')\n",
    "print(x_test.shape[0], 'test samples')"
   ]
  },
  {
   "cell_type": "code",
   "execution_count": null,
   "id": "b311a7d2",
   "metadata": {
    "tags": []
   },
   "outputs": [],
   "source": [
    "from keras.utils import np_utils #エラー対策？\n",
    "\n",
    "#ラベルデータをOne-hotベクトル形式に変換\n",
    "y_train = np_utils.to_categorical(y_train, num)\n",
    "y_test = np_utils.to_categorical(y_test, num)"
   ]
  },
  {
   "cell_type": "markdown",
   "id": "78b84063",
   "metadata": {},
   "source": [
    "### モデルの作成"
   ]
  },
  {
   "cell_type": "code",
   "execution_count": null,
   "id": "322d982d",
   "metadata": {},
   "outputs": [],
   "source": [
    "from keras.models import Sequential\n",
    "from keras.layers import Dense, Dropout, Flatten\n",
    "from keras.layers import Conv2D, MaxPooling2D"
   ]
  },
  {
   "cell_type": "code",
   "execution_count": null,
   "id": "69621990",
   "metadata": {
    "tags": []
   },
   "outputs": [],
   "source": [
    "model = Sequential()\n",
    "model.add(Conv2D(32,                                   #filter:フィルタの個数\n",
    "                kernel_size = 3,                   #2次元(3,3)畳み込みウィンドウの幅と高さ\n",
    "                activation = 'relu',                   \n",
    "                input_shape = input_shape))            #入力shape\n",
    "model.add(MaxPooling2D(pool_size = (2, 2)))            #領域内で最大値をとるモデル\n",
    "model.add(Conv2D(64, (3,3), activation = 'relu'))      #relu:正規化線形関数\n",
    "model.add(Dropout(0.25))\n",
    "model.add(Flatten())                                   #特徴マップをベクトル形式に変換\n",
    "model.add(Dense(num, activation = 'softmax'))          #softmax:0~1に確率変換\n",
    "model.summary()\n",
    "\n",
    "#損失関数・最適化関数、評価指数の指定とコンパイル\n",
    "model.compile(loss = 'categorical_crossentropy', #損失関数 -> https://keras.io/objectives/\n",
    "              optimizer = 'Adam', #評価関数 -> https://keras.io/optimizer/\n",
    "              metrics = ['accuracy'])"
   ]
  },
  {
   "cell_type": "markdown",
   "id": "d9a80ca0",
   "metadata": {},
   "source": [
    "### モデルの学習"
   ]
  },
  {
   "cell_type": "code",
   "execution_count": null,
   "id": "007c5876",
   "metadata": {},
   "outputs": [],
   "source": [
    "hist = model.fit(x_train, y_train,\n",
    "                batch_size = batch_size,\n",
    "                epochs = epochs,\n",
    "                verbose = 1,\n",
    "                #validation_data = (x_test, y_test)\n",
    "                validation_split = 0.2) #検証用データの割合"
   ]
  },
  {
   "cell_type": "code",
   "execution_count": null,
   "id": "820fa71d",
   "metadata": {},
   "outputs": [],
   "source": [
    "#モデルの評価\n",
    "score = model.evaluate(x_test, y_test)\n",
    "print('Test loss:', score[0]) #損失\n",
    "print('Test acc :', score[1]) #正解率"
   ]
  },
  {
   "cell_type": "markdown",
   "id": "f66b40e3",
   "metadata": {},
   "source": [
    "### グラフ化"
   ]
  },
  {
   "cell_type": "code",
   "execution_count": null,
   "id": "648d2a4e",
   "metadata": {},
   "outputs": [],
   "source": [
    "pip install matplotlib"
   ]
  },
  {
   "cell_type": "code",
   "execution_count": null,
   "id": "cac5fd3e",
   "metadata": {
    "jupyter": {
     "source_hidden": true
    },
    "tags": []
   },
   "outputs": [],
   "source": [
    "import matplotlib.pyplot as plt\n",
    "\n",
    "acc = hist.history['accuracy']\n",
    "val_acc = hist.history['val_accuracy']\n",
    "\n",
    "plt.plot(range(len(acc)), acc, marker = '.', label = 'accuracy')\n",
    "plt.plot(range(len(val_acc)), acc, marker = '.', label = 'val_accuracy')\n",
    "plt.legend(loc = 'best', fontsize = 10)\n",
    "plt.grid()\n",
    "plt.xlabel('epoch')\n",
    "plt.ylabel('accuracy')\n",
    "plt.show()"
   ]
  },
  {
   "cell_type": "code",
   "execution_count": null,
   "id": "be167f22",
   "metadata": {
    "jupyter": {
     "source_hidden": true
    },
    "tags": []
   },
   "outputs": [],
   "source": [
    "loss = hist.history['loss']\n",
    "val_loss = hist.history['val_loss']\n",
    "\n",
    "plt.plot(range(len(loss)), loss, marker = '.', label = 'loss')\n",
    "plt.plot(range(len(val_loss)), loss, marker = '.', label = 'val_loss')\n",
    "plt.legend(loc = 'best', fontsize = 10)\n",
    "plt.grid()\n",
    "plt.xlabel('epoch')\n",
    "plt.ylabel('loss')\n",
    "plt.show()"
   ]
  },
  {
   "cell_type": "code",
   "execution_count": null,
   "id": "11956a74",
   "metadata": {},
   "outputs": [],
   "source": [
    "import matplotlib.pyplot as plt\n",
    "\n",
    "fig = plt.figure(figsize=(10, 6))\n",
    "ax1 = fig.add_subplot(1, 2, 1, xlabel=\"epoch\", ylabel=\"accuracy\")\n",
    "ax2 = fig.add_subplot(1, 2, 2, xlabel=\"epoch\", ylabel=\"loss\")\n",
    "\n",
    "acc = hist.history['accuracy']\n",
    "loss = hist.history['loss']\n",
    "val_acc = hist.history['val_accuracy']\n",
    "val_loss = hist.history['val_loss']\n",
    "\n",
    "ax1.plot(range(epochs), acc, marker = 'o', label = 'accuracy')\n",
    "ax1.plot(range(epochs), acc, marker = '^', label = 'val_accuracy')\n",
    "ax1.legend(loc = 'best', fontsize = 10)\n",
    "ax1.grid()\n",
    "#ax1.xlabel('epoch')\n",
    "#ax1.ylabel('accuracy')\n",
    "\n",
    "ax2.plot(range(len(loss)), loss, marker = '.', label = 'loss')\n",
    "ax2.plot(range(len(val_loss)), loss, marker = '.', label = 'val_loss')\n",
    "ax2.legend(loc = 'best', fontsize = 10)\n",
    "ax2.grid()\n",
    "#ax2.xlabel('epoch')\n",
    "#ax2.ylabel('loss')\n",
    "\n",
    "plt.tight_layout()\n",
    "plt.show()\n",
    "\n",
    "fig.savefig(\"mnist.png\")"
   ]
  },
  {
   "cell_type": "code",
   "execution_count": null,
   "id": "83fbfdc8",
   "metadata": {},
   "outputs": [],
   "source": [
    "import matplotlib.pyplot as plt\n",
    "n = 10\n",
    "\n",
    "fig = plt.figure(figsize = (20, 2))\n",
    "for i in range(n):\n",
    "    ax1 = plt.subplot(1, n, i+1)\n",
    "    plt.imshow(x_test[i].reshape(image_x, image_y))\n",
    "    plt.gray()\n",
    "    ax1.get_xaxis().set_visible(False)\n",
    "    ax1.get_yaxis().set_visible(False)\n",
    "    \n",
    "plt.show\n",
    "\n",
    "fig.savefig(\"mnist_num.png\")"
   ]
  }
 ],
 "metadata": {
  "kernelspec": {
   "display_name": "Python 3.9.12 ('base')",
   "language": "python",
   "name": "python3"
  },
  "language_info": {
   "codemirror_mode": {
    "name": "ipython",
    "version": 3
   },
   "file_extension": ".py",
   "mimetype": "text/x-python",
   "name": "python",
   "nbconvert_exporter": "python",
   "pygments_lexer": "ipython3",
   "version": "3.9.12"
  },
  "vscode": {
   "interpreter": {
    "hash": "805f1844320c98ed95bb45ee2b08eb23b342c7f7362249f201ebe7b285e4a24c"
   }
  }
 },
 "nbformat": 4,
 "nbformat_minor": 5
}
