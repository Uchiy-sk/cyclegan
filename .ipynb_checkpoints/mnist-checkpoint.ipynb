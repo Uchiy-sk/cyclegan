{
 "cells": [
  {
   "cell_type": "markdown",
   "id": "150e7670",
   "metadata": {
    "tags": []
   },
   "source": [
    "# MNIST実装"
   ]
  },
  {
   "cell_type": "code",
   "execution_count": 1,
   "id": "e9f0f03b",
   "metadata": {},
   "outputs": [],
   "source": [
    "import tensorflow as tf\n",
    "import keras"
   ]
  },
  {
   "cell_type": "markdown",
   "id": "b4a5883e",
   "metadata": {},
   "source": [
    "### データセットのダウンロード"
   ]
  },
  {
   "cell_type": "code",
   "execution_count": 2,
   "id": "9f624368",
   "metadata": {},
   "outputs": [],
   "source": [
    "#初期値設定\n",
    "image_x ,image_y = 28, 28 #画像サイズ\n",
    "batch_size = 128 #バッチサイズ\n",
    "input_shape = (image_x, image_y, 1)\n",
    "num = 10 #0~9番号\n",
    "epochs = 10"
   ]
  },
  {
   "cell_type": "code",
   "execution_count": 3,
   "id": "383c7805",
   "metadata": {},
   "outputs": [],
   "source": [
    "from keras.datasets import mnist\n",
    "(x_train, y_train), (x_test, y_test) = mnist.load_data()\n",
    "#学習用データ60000個,テスト用データ10000個"
   ]
  },
  {
   "cell_type": "code",
   "execution_count": 4,
   "id": "09844ae5",
   "metadata": {},
   "outputs": [],
   "source": [
    "#1次配列に変換\n",
    "x_train = x_train.reshape(x_train.shape[0], image_x, image_y, 1)\n",
    "x_test = x_test.reshape(x_test.shape[0], image_x, image_y, 1)"
   ]
  },
  {
   "cell_type": "code",
   "execution_count": 5,
   "id": "20964f68",
   "metadata": {},
   "outputs": [
    {
     "name": "stdout",
     "output_type": "stream",
     "text": [
      "x_train shape: (60000, 28, 28, 1)\n",
      "60000 train samples\n",
      "10000 test samples\n"
     ]
    }
   ],
   "source": [
    "#0~1に正規化\n",
    "x_train = x_train.astype('float32')\n",
    "x_test = x_test.astype('float32')\n",
    "x_train /= 255\n",
    "x_test /= 255\n",
    "\n",
    "print('x_train shape:', x_train.shape)\n",
    "print(x_train.shape[0], 'train samples')\n",
    "print(x_test.shape[0], 'test samples')"
   ]
  },
  {
   "cell_type": "code",
   "execution_count": 6,
   "id": "b311a7d2",
   "metadata": {
    "tags": []
   },
   "outputs": [],
   "source": [
    "from keras.utils import np_utils #エラー対策？\n",
    "\n",
    "#ラベルデータをOne-hotベクトル形式に変換\n",
    "y_train = np_utils.to_categorical(y_train, num)\n",
    "y_test = np_utils.to_categorical(y_test, num)"
   ]
  },
  {
   "cell_type": "markdown",
   "id": "78b84063",
   "metadata": {},
   "source": [
    "### モデルの作成"
   ]
  },
  {
   "cell_type": "code",
   "execution_count": 7,
   "id": "322d982d",
   "metadata": {},
   "outputs": [],
   "source": [
    "from keras.models import Sequential\n",
    "from keras.layers import Dense, Dropout, Flatten\n",
    "from keras.layers import Conv2D, MaxPooling2D"
   ]
  },
  {
   "cell_type": "code",
   "execution_count": 8,
   "id": "69621990",
   "metadata": {
    "tags": []
   },
   "outputs": [
    {
     "name": "stdout",
     "output_type": "stream",
     "text": [
      "Model: \"sequential\"\n",
      "_________________________________________________________________\n",
      " Layer (type)                Output Shape              Param #   \n",
      "=================================================================\n",
      " conv2d (Conv2D)             (None, 26, 26, 32)        320       \n",
      "                                                                 \n",
      " max_pooling2d (MaxPooling2D  (None, 13, 13, 32)       0         \n",
      " )                                                               \n",
      "                                                                 \n",
      " conv2d_1 (Conv2D)           (None, 11, 11, 64)        18496     \n",
      "                                                                 \n",
      " dropout (Dropout)           (None, 11, 11, 64)        0         \n",
      "                                                                 \n",
      " flatten (Flatten)           (None, 7744)              0         \n",
      "                                                                 \n",
      " dense (Dense)               (None, 10)                77450     \n",
      "                                                                 \n",
      "=================================================================\n",
      "Total params: 96,266\n",
      "Trainable params: 96,266\n",
      "Non-trainable params: 0\n",
      "_________________________________________________________________\n"
     ]
    }
   ],
   "source": [
    "model = Sequential()\n",
    "model.add(Conv2D(32,                                   #filter:フィルタの個数\n",
    "                kernel_size = 3,                   #2次元(3,3)畳み込みウィンドウの幅と高さ\n",
    "                activation = 'relu',                   \n",
    "                input_shape = input_shape))            #入力shape\n",
    "model.add(MaxPooling2D(pool_size = (2, 2)))            #領域内で最大値をとるモデル\n",
    "model.add(Conv2D(64, (3,3), activation = 'relu'))      #relu:正規化線形関数\n",
    "model.add(Dropout(0.25))\n",
    "model.add(Flatten())                                   #特徴マップをベクトル形式に変換\n",
    "model.add(Dense(num, activation = 'softmax'))          #softmax:0~1に確率変換\n",
    "model.summary()\n",
    "\n",
    "#損失関数・最適化関数、評価指数の指定とコンパイル\n",
    "model.compile(loss = 'categorical_crossentropy', #損失関数 -> https://keras.io/objectives/\n",
    "              optimizer = 'Adam', #評価関数 -> https://keras.io/optimizer/\n",
    "              metrics = ['accuracy'])"
   ]
  },
  {
   "cell_type": "markdown",
   "id": "d9a80ca0",
   "metadata": {},
   "source": [
    "### モデルの学習"
   ]
  },
  {
   "cell_type": "code",
   "execution_count": 9,
   "id": "007c5876",
   "metadata": {},
   "outputs": [
    {
     "name": "stdout",
     "output_type": "stream",
     "text": [
      "Epoch 1/10\n",
      "375/375 [==============================] - 15s 39ms/step - loss: 0.2578 - accuracy: 0.9246 - val_loss: 0.0823 - val_accuracy: 0.9764\n",
      "Epoch 2/10\n",
      "375/375 [==============================] - 15s 39ms/step - loss: 0.0726 - accuracy: 0.9783 - val_loss: 0.0596 - val_accuracy: 0.9819\n",
      "Epoch 3/10\n",
      "375/375 [==============================] - 15s 39ms/step - loss: 0.0529 - accuracy: 0.9838 - val_loss: 0.0486 - val_accuracy: 0.9862\n",
      "Epoch 4/10\n",
      "375/375 [==============================] - 14s 38ms/step - loss: 0.0419 - accuracy: 0.9871 - val_loss: 0.0448 - val_accuracy: 0.9867\n",
      "Epoch 5/10\n",
      "375/375 [==============================] - 14s 38ms/step - loss: 0.0345 - accuracy: 0.9890 - val_loss: 0.0454 - val_accuracy: 0.9868\n",
      "Epoch 6/10\n",
      "375/375 [==============================] - 14s 37ms/step - loss: 0.0300 - accuracy: 0.9907 - val_loss: 0.0553 - val_accuracy: 0.9849\n",
      "Epoch 7/10\n",
      "375/375 [==============================] - 14s 38ms/step - loss: 0.0252 - accuracy: 0.9916 - val_loss: 0.0426 - val_accuracy: 0.9885\n",
      "Epoch 8/10\n",
      "375/375 [==============================] - 15s 39ms/step - loss: 0.0216 - accuracy: 0.9928 - val_loss: 0.0437 - val_accuracy: 0.9877\n",
      "Epoch 9/10\n",
      "375/375 [==============================] - 14s 38ms/step - loss: 0.0183 - accuracy: 0.9942 - val_loss: 0.0419 - val_accuracy: 0.9879\n",
      "Epoch 10/10\n",
      "375/375 [==============================] - 14s 37ms/step - loss: 0.0157 - accuracy: 0.9951 - val_loss: 0.0415 - val_accuracy: 0.9882\n"
     ]
    }
   ],
   "source": [
    "hist = model.fit(x_train, y_train,\n",
    "                batch_size = batch_size,\n",
    "                epochs = epochs,\n",
    "                verbose = 1,\n",
    "                #validation_data = (x_test, y_test)\n",
    "                validation_split = 0.2) #検証用データの割合"
   ]
  },
  {
   "cell_type": "code",
   "execution_count": 10,
   "id": "820fa71d",
   "metadata": {},
   "outputs": [
    {
     "name": "stdout",
     "output_type": "stream",
     "text": [
      "313/313 [==============================] - 1s 3ms/step - loss: 0.0350 - accuracy: 0.9900\n",
      "Test loss: 0.0350373275578022\n",
      "Test acc : 0.9900000095367432\n"
     ]
    }
   ],
   "source": [
    "#モデルの評価\n",
    "score = model.evaluate(x_test, y_test)\n",
    "print('Test loss:', score[0]) #損失\n",
    "print('Test acc :', score[1]) #正解率"
   ]
  },
  {
   "cell_type": "markdown",
   "id": "f66b40e3",
   "metadata": {},
   "source": [
    "### グラフ化"
   ]
  },
  {
   "cell_type": "code",
   "execution_count": 42,
   "id": "648d2a4e",
   "metadata": {},
   "outputs": [
    {
     "name": "stdout",
     "output_type": "stream",
     "text": [
      "Requirement already satisfied: matplotlib in c:\\users\\uchiy\\anaconda3\\envs\\tensorflow\\lib\\site-packages (3.5.2)Note: you may need to restart the kernel to use updated packages.\n",
      "Requirement already satisfied: python-dateutil>=2.7 in c:\\users\\uchiy\\anaconda3\\envs\\tensorflow\\lib\\site-packages (from matplotlib) (2.8.2)\n",
      "Requirement already satisfied: cycler>=0.10 in c:\\users\\uchiy\\anaconda3\\envs\\tensorflow\\lib\\site-packages (from matplotlib) (0.11.0)\n",
      "Requirement already satisfied: numpy>=1.17 in c:\\users\\uchiy\\anaconda3\\envs\\tensorflow\\lib\\site-packages (from matplotlib) (1.22.4)\n",
      "Requirement already satisfied: packaging>=20.0 in c:\\users\\uchiy\\anaconda3\\envs\\tensorflow\\lib\\site-packages (from matplotlib) (21.3)\n",
      "Requirement already satisfied: fonttools>=4.22.0 in c:\\users\\uchiy\\anaconda3\\envs\\tensorflow\\lib\\site-packages (from matplotlib) (4.33.3)\n",
      "Requirement already satisfied: kiwisolver>=1.0.1 in c:\\users\\uchiy\\anaconda3\\envs\\tensorflow\\lib\\site-packages (from matplotlib) (1.4.3)\n",
      "Requirement already satisfied: pyparsing>=2.2.1 in c:\\users\\uchiy\\anaconda3\\envs\\tensorflow\\lib\\site-packages (from matplotlib) (3.0.9)\n",
      "Requirement already satisfied: pillow>=6.2.0 in c:\\users\\uchiy\\anaconda3\\envs\\tensorflow\\lib\\site-packages (from matplotlib) (9.1.1)\n",
      "Requirement already satisfied: six>=1.5 in c:\\users\\uchiy\\anaconda3\\envs\\tensorflow\\lib\\site-packages (from python-dateutil>=2.7->matplotlib) (1.16.0)\n",
      "\n"
     ]
    }
   ],
   "source": [
    "pip install matplotlib"
   ]
  },
  {
   "cell_type": "code",
   "execution_count": 9,
   "id": "cac5fd3e",
   "metadata": {
    "jupyter": {
     "source_hidden": true
    },
    "tags": []
   },
   "outputs": [
    {
     "ename": "NameError",
     "evalue": "name 'hist' is not defined",
     "output_type": "error",
     "traceback": [
      "\u001b[1;31m---------------------------------------------------------------------------\u001b[0m",
      "\u001b[1;31mNameError\u001b[0m                                 Traceback (most recent call last)",
      "\u001b[1;32m<ipython-input-9-e3c80827f470>\u001b[0m in \u001b[0;36m<module>\u001b[1;34m\u001b[0m\n\u001b[0;32m      1\u001b[0m \u001b[1;32mimport\u001b[0m \u001b[0mmatplotlib\u001b[0m\u001b[1;33m.\u001b[0m\u001b[0mpyplot\u001b[0m \u001b[1;32mas\u001b[0m \u001b[0mplt\u001b[0m\u001b[1;33m\u001b[0m\u001b[1;33m\u001b[0m\u001b[0m\n\u001b[0;32m      2\u001b[0m \u001b[1;33m\u001b[0m\u001b[0m\n\u001b[1;32m----> 3\u001b[1;33m \u001b[0macc\u001b[0m \u001b[1;33m=\u001b[0m \u001b[0mhist\u001b[0m\u001b[1;33m.\u001b[0m\u001b[0mhistory\u001b[0m\u001b[1;33m[\u001b[0m\u001b[1;34m'accuracy'\u001b[0m\u001b[1;33m]\u001b[0m\u001b[1;33m\u001b[0m\u001b[1;33m\u001b[0m\u001b[0m\n\u001b[0m\u001b[0;32m      4\u001b[0m \u001b[0mval_acc\u001b[0m \u001b[1;33m=\u001b[0m \u001b[0mhist\u001b[0m\u001b[1;33m.\u001b[0m\u001b[0mhistory\u001b[0m\u001b[1;33m[\u001b[0m\u001b[1;34m'val_accuracy'\u001b[0m\u001b[1;33m]\u001b[0m\u001b[1;33m\u001b[0m\u001b[1;33m\u001b[0m\u001b[0m\n\u001b[0;32m      5\u001b[0m \u001b[1;33m\u001b[0m\u001b[0m\n",
      "\u001b[1;31mNameError\u001b[0m: name 'hist' is not defined"
     ]
    }
   ],
   "source": [
    "import matplotlib.pyplot as plt\n",
    "\n",
    "acc = hist.history['accuracy']\n",
    "val_acc = hist.history['val_accuracy']\n",
    "\n",
    "plt.plot(range(len(acc)), acc, marker = '.', label = 'accuracy')\n",
    "plt.plot(range(len(val_acc)), acc, marker = '.', label = 'val_accuracy')\n",
    "plt.legend(loc = 'best', fontsize = 10)\n",
    "plt.grid()\n",
    "plt.xlabel('epoch')\n",
    "plt.ylabel('accuracy')\n",
    "plt.show()"
   ]
  },
  {
   "cell_type": "code",
   "execution_count": null,
   "id": "be167f22",
   "metadata": {
    "jupyter": {
     "source_hidden": true
    },
    "tags": []
   },
   "outputs": [],
   "source": [
    "loss = hist.history['loss']\n",
    "val_loss = hist.history['val_loss']\n",
    "\n",
    "plt.plot(range(len(loss)), loss, marker = '.', label = 'loss')\n",
    "plt.plot(range(len(val_loss)), loss, marker = '.', label = 'val_loss')\n",
    "plt.legend(loc = 'best', fontsize = 10)\n",
    "plt.grid()\n",
    "plt.xlabel('epoch')\n",
    "plt.ylabel('loss')\n",
    "plt.show()"
   ]
  },
  {
   "cell_type": "code",
   "execution_count": 12,
   "id": "11956a74",
   "metadata": {},
   "outputs": [
    {
     "data": {
      "image/png": "[encoded data removed]",
      "text/plain": [
       "<Figure size 720x432 with 2 Axes>"
      ]
     },
     "metadata": {
      "needs_background": "light"
     },
     "output_type": "display_data"
    }
   ],
   "source": [
    "import matplotlib.pyplot as plt\n",
    "\n",
    "fig = plt.figure(figsize=(10, 6))\n",
    "ax1 = fig.add_subplot(1, 2, 1, xlabel=\"epoch\", ylabel=\"accuracy\")\n",
    "ax2 = fig.add_subplot(1, 2, 2, xlabel=\"epoch\", ylabel=\"loss\")\n",
    "\n",
    "acc = hist.history['accuracy']\n",
    "loss = hist.history['loss']\n",
    "val_acc = hist.history['val_accuracy']\n",
    "val_loss = hist.history['val_loss']\n",
    "\n",
    "ax1.plot(range(epochs), acc, marker = 'o', label = 'accuracy')\n",
    "ax1.plot(range(epochs), acc, marker = '^', label = 'val_accuracy')\n",
    "ax1.legend(loc = 'best', fontsize = 10)\n",
    "ax1.grid()\n",
    "#ax1.xlabel('epoch')\n",
    "#ax1.ylabel('accuracy')\n",
    "\n",
    "ax2.plot(range(len(loss)), loss, marker = '.', label = 'loss')\n",
    "ax2.plot(range(len(val_loss)), loss, marker = '.', label = 'val_loss')\n",
    "ax2.legend(loc = 'best', fontsize = 10)\n",
    "ax2.grid()\n",
    "#ax2.xlabel('epoch')\n",
    "#ax2.ylabel('loss')\n",
    "\n",
    "plt.tight_layout()\n",
    "plt.show()\n",
    "\n",
    "fig.savefig(\"mnist.png\")"
   ]
  },
  {
   "cell_type": "code",
   "execution_count": 14,
   "id": "83fbfdc8",
   "metadata": {},
   "outputs": [
    {
     "data": {
      "image/png": "[encoded data removed]",
      "text/plain": [
       "<Figure size 1440x144 with 10 Axes>"
      ]
     },
     "metadata": {
      "needs_background": "light"
     },
     "output_type": "display_data"
    }
   ],
   "source": [
    "import matplotlib.pyplot as plt\n",
    "n = 10\n",
    "\n",
    "fig = plt.figure(figsize = (20, 2))\n",
    "for i in range(n):\n",
    "    ax1 = plt.subplot(1, n, i+1)\n",
    "    plt.imshow(x_test[i].reshape(image_x, image_y))\n",
    "    plt.gray()\n",
    "    ax1.get_xaxis().set_visible(False)\n",
    "    ax1.get_yaxis().set_visible(False)\n",
    "    \n",
    "plt.show\n",
    "\n",
    "fig.savefig(\"mnist_num.png\")"
   ]
  }
 ],
 "metadata": {
  "kernelspec": {
   "display_name": "Python 3 (ipykernel)",
   "language": "python",
   "name": "python3"
  },
  "language_info": {
   "codemirror_mode": {
    "name": "ipython",
    "version": 3
   },
   "file_extension": ".py",
   "mimetype": "text/x-python",
   "name": "python",
   "nbconvert_exporter": "python",
   "pygments_lexer": "ipython3",
   "version": "3.8.13"
  }
 },
 "nbformat": 4,
 "nbformat_minor": 5
}
